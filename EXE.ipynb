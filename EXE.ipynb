{
  "nbformat": 4,
  "nbformat_minor": 0,
  "metadata": {
    "colab": {
      "provenance": [],
      "authorship_tag": "ABX9TyMUP0luPBHbLyH50yDsGZNZ",
      "include_colab_link": true
    },
    "kernelspec": {
      "name": "python3",
      "display_name": "Python 3"
    },
    "language_info": {
      "name": "python"
    }
  },
  "cells": [
    {
      "cell_type": "markdown",
      "metadata": {
        "id": "view-in-github",
        "colab_type": "text"
      },
      "source": [
        "<a href=\"https://colab.research.google.com/github/minho1110/BP_10_Ch4/blob/main/EXE.ipynb\" target=\"_parent\"><img src=\"https://colab.research.google.com/assets/colab-badge.svg\" alt=\"Open In Colab\"/></a>"
      ]
    },
    {
      "cell_type": "markdown",
      "source": [
        "1번.문자열과 정수(모든 숫자)는 합칠 수 없다. 만약 합하고 싶다면 , (Comma)를 사용하거나 혹은 숫자를 형변환 해야한다. \"나는',12, '개의 사과를 먹었다.'\" 혹은 \"'나는' + (str)(12) + '개의 사과를 먹었다.' \"가 답이다."
      ],
      "metadata": {
        "id": "oB14Ug4B5mHz"
      }
    },
    {
      "cell_type": "markdown",
      "source": [
        "2번.첫번째는 +이니 applegrape이며 두번째는 *3이므로 appleappleapple이다"
      ],
      "metadata": {
        "id": "f2uCP7Yr6hMD"
      }
    },
    {
      "cell_type": "code",
      "source": [
        "s = input(\"문자열을 입력하시오: \")\n",
        "print(s[0:2] + s[4:])"
      ],
      "metadata": {
        "colab": {
          "base_uri": "https://localhost:8080/"
        },
        "id": "-IejUuWA67Q7",
        "outputId": "2d80f55b-1691-4979-8a46-60f06856fb47"
      },
      "execution_count": 5,
      "outputs": [
        {
          "output_type": "stream",
          "name": "stdout",
          "text": [
            "문자열을 입력하시오: python\n",
            "pyon\n"
          ]
        }
      ]
    },
    {
      "cell_type": "code",
      "source": [
        "str = input(\"문자열을 입력하시오: \")\n",
        "print(str + \"하는 중\")"
      ],
      "metadata": {
        "colab": {
          "base_uri": "https://localhost:8080/"
        },
        "id": "Q_89Ip1D7BEB",
        "outputId": "5bedd88e-3bef-4154-b346-c7e8972883ba"
      },
      "execution_count": 6,
      "outputs": [
        {
          "output_type": "stream",
          "name": "stdout",
          "text": [
            "문자열을 입력하시오: 청소\n",
            "청소하는 중\n"
          ]
        }
      ]
    },
    {
      "cell_type": "code",
      "source": [
        "p = input(\"기호를 입력해주세요 : \")\n",
        "s = input(\"중간에 삽입할 문자열을 입력하시오 : \")\n",
        "\n",
        "print(p[0] + s + p[1])"
      ],
      "metadata": {
        "colab": {
          "base_uri": "https://localhost:8080/"
        },
        "id": "CvpZuiG77PnS",
        "outputId": "148fb74b-29d2-4394-f9ab-b2b6c2e44057"
      },
      "execution_count": 7,
      "outputs": [
        {
          "output_type": "stream",
          "name": "stdout",
          "text": [
            "기호를 입력해주세요 : []\n",
            "중간에 삽입할 문자열을 입력하시오 : python\n",
            "[python]\n"
          ]
        }
      ]
    },
    {
      "cell_type": "code",
      "source": [
        "list = ['1', '2', '3', '4']\n",
        "\n",
        "sum = int(list[0]) + int(list[1]) + int(list[2]) + int(list[3])\n",
        "\n",
        "print(\"리스트 = \", list)\n",
        "print(\"리스트 숫자들의 합 : \", sum)"
      ],
      "metadata": {
        "colab": {
          "base_uri": "https://localhost:8080/"
        },
        "id": "KFvZ2tQh7c2C",
        "outputId": "3a9cc25f-cd56-49d7-ca62-c4bab49fe38d"
      },
      "execution_count": 8,
      "outputs": [
        {
          "output_type": "stream",
          "name": "stdout",
          "text": [
            "리스트 =  ['1', '2', '3', '4']\n",
            "리스트 숫자들의 합 :  10\n"
          ]
        }
      ]
    }
  ]
}